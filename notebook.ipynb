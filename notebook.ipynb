{
 "cells": [
  {
   "cell_type": "code",
   "execution_count": 2,
   "metadata": {},
   "outputs": [],
   "source": [
    "from googleapiclient.discovery import build\n",
    "import pandas as pd\n",
    "import seaborn as sns\n",
    "import os\n",
    "import googleapiclient.discovery\n",
    "from googleapiclient.errors import HttpError\n",
    "from datetime import datetime, timedelta\n",
    "import matplotlib.pyplot as plt"
   ]
  },
  {
   "cell_type": "markdown",
   "metadata": {},
   "source": [
    "Retrieving unique YouTube channel ID's associated with specific channel usernames(\"loganpaulvlogs\",\"penguinz0\")."
   ]
  },
  {
   "cell_type": "code",
   "execution_count": 3,
   "metadata": {},
   "outputs": [
    {
     "name": "stdout",
     "output_type": "stream",
     "text": [
      "Channel ID for loganpaulvlogs: UCG8rbF3g2AMX70yOd8vqIZg\n",
      "Channel ID for penguinz0: UCq6VFHwMzcMXbuKyG7SQYIg\n"
     ]
    }
   ],
   "source": [
    "API_KEY = \"\" #This is a variable is used to stores YouTube Data API key. It's required to access the YouTube Data API, which provides programmatic access to YouTube data.\n",
    "\n",
    "def get_channel_id_by_username(username): #This is a function that takes a YouTube channel username as input and returns the associated YouTube Channel ID.\n",
    "    youtube = build(\"youtube\", \"v3\", developerKey=API_KEY)\n",
    "    response = youtube.search().list(\n",
    "        part=\"snippet\",\n",
    "        q=username,\n",
    "        type=\"channel\",\n",
    "        maxResults=1\n",
    "    ).execute()\n",
    "    if \"items\" in response and len(response[\"items\"]) > 0:\n",
    "        channel_id = response[\"items\"][0][\"snippet\"][\"channelId\"]\n",
    "        return channel_id\n",
    "    return None\n",
    "\n",
    "channel_username = [\"loganpaulvlogs\",\"penguinz0\"] #Channel usernames\n",
    "\n",
    "for i in range(0,2):\n",
    "    try:\n",
    "        channel_id = get_channel_id_by_username(channel_username[i])\n",
    "        if channel_id:\n",
    "            print(f\"Channel ID for {channel_username[i]}: {channel_id}\")\n",
    "        else:\n",
    "            print(f\"Channel ID for {channel_username[i]} not found.\")\n",
    "    except Exception as e:\n",
    "        print(f\"Error: {e}\")"
   ]
  },
  {
   "cell_type": "markdown",
   "metadata": {},
   "source": [
    "Retrieving comments from YouTube videos associated with specific YouTube channels and storing them in a DataFrame."
   ]
  },
  {
   "cell_type": "code",
   "execution_count": null,
   "metadata": {},
   "outputs": [],
   "source": [
    "def get_video_comments(video_id): #This function retrieves comments from a YouTube video specified by its video_id. \n",
    "    youtube = googleapiclient.discovery.build(\"youtube\", \"v3\", developerKey=API_KEY)\n",
    "\n",
    "    comments = []\n",
    "    page_token = None\n",
    "\n",
    "    while True:\n",
    "        try:\n",
    "            response = youtube.commentThreads().list(\n",
    "                part=\"snippet\",\n",
    "                videoId=video_id,\n",
    "                textFormat=\"plainText\",\n",
    "                pageToken=page_token,\n",
    "                maxResults=100\n",
    "            ).execute()\n",
    "\n",
    "            for item in response[\"items\"]:\n",
    "                comment = item[\"snippet\"][\"topLevelComment\"][\"snippet\"][\"textDisplay\"]\n",
    "                comments.append(comment)\n",
    "\n",
    "            if \"nextPageToken\" in response:\n",
    "                page_token = response[\"nextPageToken\"]\n",
    "            else:\n",
    "                break\n",
    "\n",
    "        except HttpError as e:\n",
    "            print(f\"An HTTP error occurred: {e}\")\n",
    "            break\n",
    "\n",
    "    return comments\n",
    "\n",
    "def get_channel_comments(channel_id): #This function retrieves comments from all videos uploaded by a YouTube channel specified by its channel_id within the last 30 days.\n",
    "    youtube = googleapiclient.discovery.build(\"youtube\", \"v3\", developerKey=API_KEY)\n",
    "    thirty_days_ago = (datetime.now() - timedelta(days=30)).strftime(\"%Y-%m-%dT%H:%M:%SZ\")\n",
    "\n",
    "    comments = []\n",
    "\n",
    "    try:\n",
    "        response = youtube.search().list(\n",
    "            part=\"id\",\n",
    "            channelId=channel_id,\n",
    "            maxResults=50,  \n",
    "            publishedAfter=thirty_days_ago\n",
    "        ).execute()\n",
    "\n",
    "        video_ids = [item[\"id\"][\"videoId\"] for item in response[\"items\"]]\n",
    "\n",
    "        for video_id in video_ids:\n",
    "            video_comments = get_video_comments(video_id)\n",
    "            comments.extend(video_comments)\n",
    "\n",
    "    except HttpError as e:\n",
    "        print(f\"An HTTP error occurred: {e}\")\n",
    "\n",
    "    return comments\n",
    "\n",
    "channel_ids = [\"UCG8rbF3g2AMX70yOd8vqIZg\", \"UCq6VFHwMzcMXbuKyG7SQYIg\"]\n",
    "\n",
    "all_comments = []\n",
    "\n",
    "for channel_id in channel_ids: #This loop creates a dictionary with key \"Comments\" and values are text data recieved through \"get_channel_comments()\" funtion.\n",
    "    try:\n",
    "        comments = get_channel_comments(channel_id)\n",
    "        all_comments.extend(comments)\n",
    "\n",
    "    except Exception as e:\n",
    "        print(f\"An error occurred for channel ID '{channel_id}': {e}\")\n",
    "\n",
    "df = pd.DataFrame({\"Comments\": all_comments}) #Creating pandas dataframe."
   ]
  },
  {
   "cell_type": "markdown",
   "metadata": {},
   "source": [
    "Data points recieved: 214047"
   ]
  },
  {
   "cell_type": "code",
   "execution_count": 213,
   "metadata": {},
   "outputs": [
    {
     "data": {
      "text/plain": [
       "(214047, 1)"
      ]
     },
     "execution_count": 213,
     "metadata": {},
     "output_type": "execute_result"
    }
   ],
   "source": [
    "df.shape"
   ]
  },
  {
   "cell_type": "markdown",
   "metadata": {},
   "source": [
    "Saving the dataframe using \"to_pickle\" funtion."
   ]
  },
  {
   "cell_type": "code",
   "execution_count": 31,
   "metadata": {},
   "outputs": [],
   "source": [
    "df.to_pickle('C:/Users/Varun/Desktop/Project-1/DataFrame3(after VADER labeling ).pkl')"
   ]
  },
  {
   "cell_type": "markdown",
   "metadata": {},
   "source": [
    "Use this to read any file in the folder"
   ]
  },
  {
   "cell_type": "code",
   "execution_count": 41,
   "metadata": {},
   "outputs": [],
   "source": [
    "df = pd.read_pickle('DataFrame1.pkl') "
   ]
  },
  {
   "cell_type": "markdown",
   "metadata": {},
   "source": [
    "Data Preprocessing:"
   ]
  },
  {
   "cell_type": "code",
   "execution_count": 42,
   "metadata": {},
   "outputs": [
    {
     "data": {
      "text/html": [
       "<div>\n",
       "<style scoped>\n",
       "    .dataframe tbody tr th:only-of-type {\n",
       "        vertical-align: middle;\n",
       "    }\n",
       "\n",
       "    .dataframe tbody tr th {\n",
       "        vertical-align: top;\n",
       "    }\n",
       "\n",
       "    .dataframe thead th {\n",
       "        text-align: right;\n",
       "    }\n",
       "</style>\n",
       "<table border=\"1\" class=\"dataframe\">\n",
       "  <thead>\n",
       "    <tr style=\"text-align: right;\">\n",
       "      <th></th>\n",
       "      <th>Comments</th>\n",
       "    </tr>\n",
       "  </thead>\n",
       "  <tbody>\n",
       "    <tr>\n",
       "      <th>0</th>\n",
       "      <td>Imagine how many times this sicko DIDNT get ca...</td>\n",
       "    </tr>\n",
       "    <tr>\n",
       "      <th>1</th>\n",
       "      <td>R Belly must fall</td>\n",
       "    </tr>\n",
       "    <tr>\n",
       "      <th>2</th>\n",
       "      <td>cupcake</td>\n",
       "    </tr>\n",
       "    <tr>\n",
       "      <th>3</th>\n",
       "      <td>The sequel to the cupcake story</td>\n",
       "    </tr>\n",
       "    <tr>\n",
       "      <th>4</th>\n",
       "      <td>Ugh I was not expecting this topic. My niece j...</td>\n",
       "    </tr>\n",
       "    <tr>\n",
       "      <th>...</th>\n",
       "      <td>...</td>\n",
       "    </tr>\n",
       "    <tr>\n",
       "      <th>214042</th>\n",
       "      <td>❤</td>\n",
       "    </tr>\n",
       "    <tr>\n",
       "      <th>214043</th>\n",
       "      <td>charlies streams make me want to eat pringles</td>\n",
       "    </tr>\n",
       "    <tr>\n",
       "      <th>214044</th>\n",
       "      <td>W</td>\n",
       "    </tr>\n",
       "    <tr>\n",
       "      <th>214045</th>\n",
       "      <td>Will we ever see beef testosterone again</td>\n",
       "    </tr>\n",
       "    <tr>\n",
       "      <th>214046</th>\n",
       "      <td>Please make best games of 2022</td>\n",
       "    </tr>\n",
       "  </tbody>\n",
       "</table>\n",
       "<p>214047 rows × 1 columns</p>\n",
       "</div>"
      ],
      "text/plain": [
       "                                                 Comments\n",
       "0       Imagine how many times this sicko DIDNT get ca...\n",
       "1                                       R Belly must fall\n",
       "2                                                 cupcake\n",
       "3                         The sequel to the cupcake story\n",
       "4       Ugh I was not expecting this topic. My niece j...\n",
       "...                                                   ...\n",
       "214042                                                  ❤\n",
       "214043      charlies streams make me want to eat pringles\n",
       "214044                                                  W\n",
       "214045           Will we ever see beef testosterone again\n",
       "214046                     Please make best games of 2022\n",
       "\n",
       "[214047 rows x 1 columns]"
      ]
     },
     "execution_count": 42,
     "metadata": {},
     "output_type": "execute_result"
    }
   ],
   "source": [
    "df"
   ]
  },
  {
   "cell_type": "code",
   "execution_count": 217,
   "metadata": {},
   "outputs": [
    {
     "name": "stdout",
     "output_type": "stream",
     "text": [
      "<class 'pandas.core.frame.DataFrame'>\n",
      "RangeIndex: 214047 entries, 0 to 214046\n",
      "Data columns (total 1 columns):\n",
      " #   Column    Non-Null Count   Dtype \n",
      "---  ------    --------------   ----- \n",
      " 0   Comments  214047 non-null  object\n",
      "dtypes: object(1)\n",
      "memory usage: 1.6+ MB\n"
     ]
    }
   ],
   "source": [
    "df.info()"
   ]
  },
  {
   "cell_type": "markdown",
   "metadata": {},
   "source": [
    "Importing NLTK library and initializing various text preprocessing tools from it."
   ]
  },
  {
   "cell_type": "code",
   "execution_count": 4,
   "metadata": {},
   "outputs": [],
   "source": [
    "import nltk\n",
    "from nltk.corpus import stopwords\n",
    "from nltk.stem.wordnet import WordNetLemmatizer\n",
    "import re\n",
    "\n",
    "# Initializing stopwords, and lemmatizer\n",
    "stop_words = stopwords.words('english')\n",
    "lzr = WordNetLemmatizer()"
   ]
  },
  {
   "cell_type": "markdown",
   "metadata": {},
   "source": [
    "\"preprocess_text()\" function takes raw text as input and performs a series of text cleaning and normalization steps to prepare the text for natural language processing (NLP) tasks. The result is a clean and standardized text that is easier to work with."
   ]
  },
  {
   "cell_type": "code",
   "execution_count": 5,
   "metadata": {},
   "outputs": [],
   "source": [
    "def preprocess_text(text):\n",
    "    text = text.lower()\n",
    "    text = re.sub(r'[^a-zA-Z\\s]', '', text)\n",
    "\n",
    "    tokens = nltk.word_tokenize(text)\n",
    "\n",
    "    tokens = [word for word in tokens if word not in stop_words]\n",
    "\n",
    "    lemmatized_tokens = [lzr.lemmatize(token) for token in tokens]\n",
    "\n",
    "    preprocessed_text = ' '.join(lemmatized_tokens)\n",
    "    \n",
    "    return preprocessed_text"
   ]
  },
  {
   "cell_type": "code",
   "execution_count": 29,
   "metadata": {},
   "outputs": [],
   "source": [
    "# Appling preprocessing to each comment\n",
    "preprocessed_comments = [preprocess_text(comment) for comment in df['Comments']]"
   ]
  },
  {
   "cell_type": "markdown",
   "metadata": {},
   "source": [
    "Assigning the preprocessed comments back to the original dataframe."
   ]
  },
  {
   "cell_type": "code",
   "execution_count": 30,
   "metadata": {},
   "outputs": [],
   "source": [
    "df['Comments'] = preprocessed_comments"
   ]
  },
  {
   "cell_type": "markdown",
   "metadata": {},
   "source": [
    "Sentiment analysis on a DataFrame (df) using the VADER (Valence Aware Dictionary and sEntiment Reasoner) sentiment analysis tool. VADER is specifically designed for sentiment analysis of text, especially social media content, and it provides a compound score that represents the overall sentiment of a piece of text. \n",
    "This step is to create labeled data for our machine learning model."
   ]
  },
  {
   "cell_type": "code",
   "execution_count": 32,
   "metadata": {},
   "outputs": [],
   "source": [
    "from vaderSentiment.vaderSentiment import SentimentIntensityAnalyzer\n",
    "\n",
    "analyzer = SentimentIntensityAnalyzer()\n",
    "\n",
    "def get_sentiment_label(compound_score): #Applying basic logic on compound scores to create sentiment_label column.\n",
    "    if compound_score >= 0.2:\n",
    "        return 2\n",
    "    elif compound_score <= -0.2:\n",
    "        return 0\n",
    "    else:\n",
    "        return 1\n",
    "        \n",
    "df['sentiment_scores'] = df['Comments'].apply(lambda comment: analyzer.polarity_scores(comment))\n",
    "df['compound_score'] = df['sentiment_scores'].apply(lambda score: score['compound'])\n",
    "df['sentiment_label'] = df['compound_score'].apply(get_sentiment_label)"
   ]
  },
  {
   "cell_type": "markdown",
   "metadata": {},
   "source": [
    "Checking if the data is balanced."
   ]
  },
  {
   "cell_type": "code",
   "execution_count": 35,
   "metadata": {},
   "outputs": [
    {
     "data": {
      "image/png": "[encoded data removed]",
      "text/plain": [
       "<Figure size 800x600 with 1 Axes>"
      ]
     },
     "metadata": {},
     "output_type": "display_data"
    },
    {
     "name": "stdout",
     "output_type": "stream",
     "text": [
      "0    56014\n",
      "1    81176\n",
      "2    76857\n",
      "Name: sentiment_label, dtype: int64\n"
     ]
    }
   ],
   "source": [
    "counts = df['sentiment_label'].value_counts().sort_index() # Counting the occurrences of 0s, 1s, and 2s in the \"sentiment_label\" column\n",
    "\n",
    "# Creating a bar graph\n",
    "plt.figure(figsize=(8, 6))\n",
    "counts.plot(kind='bar', color='blue')\n",
    "plt.title('Counts of Sentiment Labels')\n",
    "plt.xlabel('Sentiment Labels')\n",
    "plt.ylabel('Counts')\n",
    "plt.xticks(rotation=0)\n",
    "plt.show()\n",
    "\n",
    "print(counts)"
   ]
  },
  {
   "cell_type": "markdown",
   "metadata": {},
   "source": [
    "Clearly the number of positive and neutral comments are higher than the negative comments. So, data balancing is needed.\n",
    "The following code balances the data by limiting the number of data points for each label to the average of number of positive, negative and neutral comments."
   ]
  },
  {
   "cell_type": "code",
   "execution_count": 36,
   "metadata": {},
   "outputs": [],
   "source": [
    "desired_samples = 68595 # assigning the desired sample size to the average of the negative and neutral.\n",
    "\n",
    "balanced_df = pd.DataFrame(columns=['Comments', 'compound_score', 'sentiment_label']) # Initializing an empty DataFrame to store balanced data\n",
    "\n",
    "# Iterating through each label and randomly select samples to meet the desired count\n",
    "for label in df['sentiment_label'].unique():\n",
    "    label_data = df[df['sentiment_label'] == label]\n",
    "    \n",
    "    if len(label_data) >= desired_samples:\n",
    "        samples = label_data.sample(desired_samples, random_state=42)\n",
    "    else:\n",
    "        samples = label_data\n",
    "    \n",
    "    balanced_df = pd.concat([balanced_df, samples])\n",
    "\n",
    "df = balanced_df"
   ]
  },
  {
   "cell_type": "markdown",
   "metadata": {},
   "source": [
    "Dataset is fairly balanced now, as observed in the graph below."
   ]
  },
  {
   "cell_type": "code",
   "execution_count": 38,
   "metadata": {},
   "outputs": [
    {
     "data": {
      "image/png": "[encoded data removed]",
      "text/plain": [
       "<Figure size 800x600 with 1 Axes>"
      ]
     },
     "metadata": {},
     "output_type": "display_data"
    },
    {
     "name": "stdout",
     "output_type": "stream",
     "text": [
      "0    56014\n",
      "1    68595\n",
      "2    68595\n",
      "Name: sentiment_label, dtype: int64\n"
     ]
    }
   ],
   "source": [
    "counts = df['sentiment_label'].value_counts().sort_index() # Counting the occurrences of 0s, 1s, and 2s in the \"sentiment_label\" column\n",
    "\n",
    "# Creating a bar graph\n",
    "plt.figure(figsize=(8, 6))\n",
    "counts.plot(kind='bar', color='blue')\n",
    "plt.title('Counts of Sentiment Labels(After balancing)')\n",
    "plt.xlabel('Sentiment Labels')\n",
    "plt.ylabel('Counts')\n",
    "plt.xticks(rotation=0)\n",
    "plt.show()\n",
    "\n",
    "print(counts)"
   ]
  },
  {
   "cell_type": "markdown",
   "metadata": {},
   "source": [
    "Finding the Vocabulary Size"
   ]
  },
  {
   "cell_type": "code",
   "execution_count": 54,
   "metadata": {},
   "outputs": [
    {
     "name": "stdout",
     "output_type": "stream",
     "text": [
      "Vocabulary Size: 61452\n"
     ]
    }
   ],
   "source": [
    "vocab = tokenizer.word_index\n",
    "\n",
    "vocab_size = len(vocab)\n",
    "print(f\"Vocabulary Size: {vocab_size}\")"
   ]
  },
  {
   "cell_type": "markdown",
   "metadata": {},
   "source": [
    "\"sentiment_scores\" is dropped as it's irrelevent."
   ]
  },
  {
   "cell_type": "code",
   "execution_count": 23,
   "metadata": {},
   "outputs": [],
   "source": [
    "df.drop(columns=\"sentiment_scores\",inplace=True)"
   ]
  },
  {
   "cell_type": "markdown",
   "metadata": {},
   "source": [
    "Model Building:"
   ]
  },
  {
   "cell_type": "code",
   "execution_count": 11,
   "metadata": {},
   "outputs": [],
   "source": [
    "# Importing all the necessary libraries\n",
    "from sklearn.model_selection import train_test_split\n",
    "from keras.preprocessing.sequence import pad_sequences\n",
    "from keras.preprocessing.text import Tokenizer\n",
    "from keras.layers import Input, Embedding, LSTM, Dropout, Dense\n",
    "from keras.models import Model\n",
    "from keras.optimizers import Adam\n",
    "from keras.regularizers import l2\n",
    "from keras.utils import to_categorical\n",
    "from sklearn.metrics import confusion_matrix, classification_report, f1_score"
   ]
  },
  {
   "cell_type": "markdown",
   "metadata": {},
   "source": [
    "Creating input and output variables."
   ]
  },
  {
   "cell_type": "code",
   "execution_count": 30,
   "metadata": {},
   "outputs": [],
   "source": [
    "X_comments = df['Comments']\n",
    "Y_compound = df['compound_score']\n",
    "Y_sentiment_labels = df['sentiment_label']  "
   ]
  },
  {
   "cell_type": "markdown",
   "metadata": {},
   "source": [
    "Tokenization and padding the comment sequences."
   ]
  },
  {
   "cell_type": "code",
   "execution_count": 26,
   "metadata": {},
   "outputs": [],
   "source": [
    "tokenizer = Tokenizer(num_words=45000, lower=True) #common practice to limit vocabulary size to reduce memory usage and improve model performance.\n",
    "tokenizer.fit_on_texts(X_comments)\n",
    "X_comments = tokenizer.texts_to_sequences(X_comments)\n",
    "max_sequence_length = 100\n",
    "X_comments = pad_sequences(X_comments, maxlen=max_sequence_length)"
   ]
  },
  {
   "cell_type": "markdown",
   "metadata": {},
   "source": [
    "One-hot Encoding Y_sentiment_labels"
   ]
  },
  {
   "cell_type": "code",
   "execution_count": 245,
   "metadata": {},
   "outputs": [],
   "source": [
    "num_classes = 3\n",
    "Y_sentiment_labels_one_hot = to_categorical(Y_sentiment_labels, num_classes=num_classes)"
   ]
  },
  {
   "cell_type": "markdown",
   "metadata": {},
   "source": [
    "Train, Test Split."
   ]
  },
  {
   "cell_type": "code",
   "execution_count": 254,
   "metadata": {},
   "outputs": [],
   "source": [
    "X_train, X_test, Y_compound_train, Y_compound_test, Y_sentiment_train, Y_sentiment_test = train_test_split(\n",
    "    X_comments, Y_compound, Y_sentiment_labels_one_hot, test_size=0.2, random_state=42\n",
    ")"
   ]
  },
  {
   "cell_type": "markdown",
   "metadata": {},
   "source": [
    "Model Architecture:"
   ]
  },
  {
   "cell_type": "code",
   "execution_count": 255,
   "metadata": {},
   "outputs": [],
   "source": [
    "# Input Layer\n",
    "input_layer = Input(shape=(max_sequence_length,)) \n",
    "\n",
    "# Embedding layer\n",
    "embedding_dim = 64\n",
    "embedding_layer = Embedding(input_dim=vocab_size, output_dim=embedding_dim)(input_layer)\n",
    "\n",
    "# LSTM layer\n",
    "lstm_layer = LSTM(units=32, dropout=0.5, recurrent_dropout=0.3)(embedding_layer)\n",
    "\n",
    "# Dense layer\n",
    "dense_layer = Dense(units=16, activation='relu', kernel_regularizer=l2(0.001))(lstm_layer)\n",
    "\n",
    "# Output layers\n",
    "compound_output_layer = Dense(units=1, activation='linear', name='compound_output')(dense_layer)\n",
    "\n",
    "sentiment_label_output_layer = Dense(units=num_classes, activation='softmax', name='sentiment_label_output')(dense_layer)"
   ]
  },
  {
   "cell_type": "markdown",
   "metadata": {},
   "source": [
    "Model Compilation:"
   ]
  },
  {
   "cell_type": "code",
   "execution_count": 256,
   "metadata": {},
   "outputs": [],
   "source": [
    "# Creating the model\n",
    "model = Model(inputs=input_layer, outputs=[compound_output_layer, sentiment_label_output_layer])\n",
    "\n",
    "# Compiling the model\n",
    "model.compile(\n",
    "    loss={'compound_output': 'mean_squared_error', 'sentiment_label_output': 'categorical_crossentropy'},\n",
    "    optimizer=Adam(learning_rate=0.001),\n",
    "    metrics={'compound_output': 'mae', 'sentiment_label_output': 'accuracy'}\n",
    ")"
   ]
  },
  {
   "cell_type": "markdown",
   "metadata": {},
   "source": [
    "Model Training:"
   ]
  },
  {
   "cell_type": "code",
   "execution_count": 257,
   "metadata": {},
   "outputs": [
    {
     "name": "stdout",
     "output_type": "stream",
     "text": [
      "Epoch 1/5\n",
      "3681/3681 [==============================] - 212s 57ms/step - loss: 0.5088 - compound_output_loss: 0.0671 - sentiment_label_output_loss: 0.4297 - compound_output_mae: 0.1619 - sentiment_label_output_accuracy: 0.8324 - val_loss: 0.2799 - val_compound_output_loss: 0.0315 - val_sentiment_label_output_loss: 0.2394 - val_compound_output_mae: 0.1005 - val_sentiment_label_output_accuracy: 0.9090\n",
      "Epoch 2/5\n",
      "3681/3681 [==============================] - 208s 56ms/step - loss: 0.2255 - compound_output_loss: 0.0243 - sentiment_label_output_loss: 0.1923 - compound_output_mae: 0.0920 - sentiment_label_output_accuracy: 0.9265 - val_loss: 0.1724 - val_compound_output_loss: 0.0138 - val_sentiment_label_output_loss: 0.1502 - val_compound_output_mae: 0.0698 - val_sentiment_label_output_accuracy: 0.9464\n",
      "Epoch 3/5\n",
      "3681/3681 [==============================] - 209s 57ms/step - loss: 0.1499 - compound_output_loss: 0.0139 - sentiment_label_output_loss: 0.1280 - compound_output_mae: 0.0707 - sentiment_label_output_accuracy: 0.9508 - val_loss: 0.1524 - val_compound_output_loss: 0.0112 - val_sentiment_label_output_loss: 0.1341 - val_compound_output_mae: 0.0594 - val_sentiment_label_output_accuracy: 0.9499\n",
      "Epoch 4/5\n",
      "3681/3681 [==============================] - 208s 57ms/step - loss: 0.1228 - compound_output_loss: 0.0109 - sentiment_label_output_loss: 0.1051 - compound_output_mae: 0.0623 - sentiment_label_output_accuracy: 0.9596 - val_loss: 0.1524 - val_compound_output_loss: 0.0098 - val_sentiment_label_output_loss: 0.1364 - val_compound_output_mae: 0.0542 - val_sentiment_label_output_accuracy: 0.9499\n",
      "Epoch 5/5\n",
      "3681/3681 [==============================] - 207s 56ms/step - loss: 0.1061 - compound_output_loss: 0.0093 - sentiment_label_output_loss: 0.0906 - compound_output_mae: 0.0584 - sentiment_label_output_accuracy: 0.9653 - val_loss: 0.1485 - val_compound_output_loss: 0.0103 - val_sentiment_label_output_loss: 0.1327 - val_compound_output_mae: 0.0529 - val_sentiment_label_output_accuracy: 0.9537\n"
     ]
    }
   ],
   "source": [
    "# Training the model\n",
    "history = model.fit(\n",
    "    X_train,\n",
    "    {'compound_output': Y_compound_train, 'sentiment_label_output': Y_sentiment_train},\n",
    "    validation_data=(\n",
    "        X_test,\n",
    "        {'compound_output': Y_compound_test, 'sentiment_label_output': Y_sentiment_test}\n",
    "    ),\n",
    "    epochs=5,\n",
    "    batch_size=42\n",
    ")"
   ]
  },
  {
   "cell_type": "markdown",
   "metadata": {},
   "source": [
    "Model Evaluation:"
   ]
  },
  {
   "cell_type": "markdown",
   "metadata": {},
   "source": [
    "Visualizing the training and validation loss as well as training and validation accuracy during the training of a neural network model. "
   ]
  },
  {
   "cell_type": "code",
   "execution_count": 258,
   "metadata": {},
   "outputs": [
    {
     "data": {
      "image/png": "[encoded data removed]",
      "text/plain": [
       "<Figure size 1400x500 with 2 Axes>"
      ]
     },
     "metadata": {},
     "output_type": "display_data"
    }
   ],
   "source": [
    "# Accessing the loss history from the training process\n",
    "loss = history.history['loss']\n",
    "val_loss = history.history['val_loss']\n",
    "accuracy = history.history['sentiment_label_output_accuracy']\n",
    "val_accuracy = history.history['val_sentiment_label_output_accuracy']\n",
    "\n",
    "# Creating subplots for loss and accuracy\n",
    "fig, (ax1, ax2) = plt.subplots(1, 2, figsize=(14, 5))\n",
    "\n",
    "# Ploting the training and validation loss\n",
    "ax1.plot(range(1, len(loss) + 1), loss, label='Training Loss')\n",
    "ax1.plot(range(1, len(val_loss) + 1), val_loss, label='Validation Loss')\n",
    "ax1.set_xlabel('Epochs')\n",
    "ax1.set_ylabel('Loss')\n",
    "ax1.set_title('Loss vs. Epochs')\n",
    "ax1.legend()\n",
    "ax1.grid(True)\n",
    "\n",
    "# Ploting the training and validation accuracy\n",
    "ax2.plot(range(1, len(accuracy) + 1), accuracy, label='Training Accuracy')\n",
    "ax2.plot(range(1, len(val_accuracy) + 1), val_accuracy, label='Validation Accuracy')\n",
    "ax2.set_xlabel('Epochs')\n",
    "ax2.set_ylabel('Accuracy')\n",
    "ax2.set_title('Accuracy vs. Epochs')\n",
    "ax2.legend()\n",
    "ax2.grid(True)\n",
    "\n",
    "plt.show()"
   ]
  },
  {
   "cell_type": "markdown",
   "metadata": {},
   "source": [
    "Printing performance parameters"
   ]
  },
  {
   "cell_type": "code",
   "execution_count": 259,
   "metadata": {},
   "outputs": [
    {
     "name": "stdout",
     "output_type": "stream",
     "text": [
      "1208/1208 [==============================] - 6s 5ms/step - loss: 0.1485 - compound_output_loss: 0.0103 - sentiment_label_output_loss: 0.1327 - compound_output_mae: 0.0529 - sentiment_label_output_accuracy: 0.9537\n",
      "loss: 0.1485\n",
      "compound_output_loss: 0.0103\n",
      "sentiment_label_output_loss: 0.1327\n",
      "compound_output_mae: 0.0529\n",
      "sentiment_label_output_accuracy: 0.9537\n"
     ]
    }
   ],
   "source": [
    "# Evaluating the model on the test data\n",
    "evaluation_metrics = model.evaluate(X_test, {'compound_output': Y_compound_test, 'sentiment_label_output': Y_sentiment_test})\n",
    "\n",
    "# Printing the metrics\n",
    "for name, value in zip(model.metrics_names, evaluation_metrics):\n",
    "    print(f'{name}: {value:.4f}')"
   ]
  },
  {
   "cell_type": "markdown",
   "metadata": {},
   "source": [
    "Evaluating the model's performance on a sentiment classification task, including the calculation of a confusion matrix, F1 score, and a classification report. "
   ]
  },
  {
   "cell_type": "code",
   "execution_count": 260,
   "metadata": {},
   "outputs": [
    {
     "name": "stdout",
     "output_type": "stream",
     "text": [
      "1208/1208 [==============================] - 6s 5ms/step\n"
     ]
    },
    {
     "data": {
      "image/png": "[encoded data removed]",
      "text/plain": [
       "<Figure size 800x600 with 2 Axes>"
      ]
     },
     "metadata": {},
     "output_type": "display_data"
    },
    {
     "name": "stdout",
     "output_type": "stream",
     "text": [
      "Weighted F1 Score: 0.9536626567400638\n",
      "\n",
      "Classification Report:\n",
      "               precision    recall  f1-score   support\n",
      "\n",
      "           0       0.97      0.94      0.96     11256\n",
      "           1       0.94      0.94      0.94     13553\n",
      "           2       0.96      0.97      0.97     13832\n",
      "\n",
      "    accuracy                           0.95     38641\n",
      "   macro avg       0.95      0.95      0.95     38641\n",
      "weighted avg       0.95      0.95      0.95     38641\n",
      "\n"
     ]
    }
   ],
   "source": [
    "y_compound_pred, y_sentiment_pred = model.predict(X_test)\n",
    "\n",
    "y_sentiment_true = np.argmax(Y_sentiment_test, axis=1)\n",
    "y_sentiment_pred = np.argmax(y_sentiment_pred, axis=1)\n",
    "\n",
    "# Calculating confusion matrix for sentiment\n",
    "cm = confusion_matrix(y_sentiment_true, y_sentiment_pred)\n",
    "\n",
    "# Calculating F1 score for sentiment\n",
    "f1 = f1_score(y_sentiment_true, y_sentiment_pred, average='weighted')\n",
    "\n",
    "# Generating classification report for sentiment\n",
    "report = classification_report(y_sentiment_true, y_sentiment_pred)\n",
    "\n",
    "# Creating a heatmap for the confusion matrix\n",
    "plt.figure(figsize=(8, 6))\n",
    "sns.heatmap(cm, annot=True, fmt=\"d\", cmap=\"Blues\", xticklabels=True, yticklabels=True)\n",
    "plt.xlabel('Predicted Labels')\n",
    "plt.ylabel('True Labels')\n",
    "plt.title('Confusion Matrix')\n",
    "plt.show()\n",
    "\n",
    "# Printing F1 score and classification report\n",
    "print(\"Weighted F1 Score:\", f1)\n",
    "print(\"\\nClassification Report:\\n\", report)"
   ]
  },
  {
   "cell_type": "markdown",
   "metadata": {},
   "source": [
    "Saving the model"
   ]
  },
  {
   "cell_type": "code",
   "execution_count": 262,
   "metadata": {},
   "outputs": [],
   "source": [
    "import pickle\n",
    "with open('LSTM_Model','wb') as f:\n",
    "    pickle.dump(model,f)"
   ]
  },
  {
   "cell_type": "markdown",
   "metadata": {},
   "source": [
    "How to use the model?\n",
    "pip install all the libraries.\n",
    "1. Run code #1: It imports all the necessary libraries and initializations.\n",
    "2. Run code #2: Loads the trained model\n",
    "3. Run code #3: defines get_sentiment funtion\n",
    "4. Run code #4: initialize text_ variable with whatever text you want\n",
    "5. Output: compound score is ranges from -1 to 1, -1 being the most negative and 1 being the most positive. Sentiment label ranges from 0 to 2, 0 = negative, 1 = neutral, 2 = positive"
   ]
  },
  {
   "cell_type": "code",
   "execution_count": 1,
   "metadata": {},
   "outputs": [],
   "source": [
    "#1\n",
    "import pickle\n",
    "import pandas as pd\n",
    "from keras.preprocessing.text import Tokenizer\n",
    "from keras.preprocessing.sequence import pad_sequences\n",
    "import nltk\n",
    "from nltk.corpus import stopwords\n",
    "from nltk.stem import PorterStemmer, LancasterStemmer, SnowballStemmer\n",
    "from nltk.stem.wordnet import WordNetLemmatizer\n",
    "import re\n",
    "\n",
    "X_comments = pd.read_pickle('X_comments.pkl') \n",
    "\n",
    "stop_words = stopwords.words('english')\n",
    "porter_stemmer = PorterStemmer()\n",
    "lancaster_stemmer = LancasterStemmer()\n",
    "snowball_stemmer = SnowballStemmer(language = 'english')\n",
    "lzr = WordNetLemmatizer()\n",
    "max_sequence_length = 100\n",
    "tokenizer = Tokenizer(num_words=45000, lower=True)\n",
    "tokenizer.fit_on_texts(X_comments)\n",
    "X_comments = tokenizer.texts_to_sequences(X_comments)\n",
    "X_comments = pad_sequences(X_comments, maxlen=max_sequence_length)\n",
    "\n",
    "def preprocess_text(text):\n",
    "    text = text.lower()\n",
    "    text = re.sub(r'[^a-zA-Z\\s]', '', text)\n",
    "\n",
    "    tokens = nltk.word_tokenize(text)\n",
    "\n",
    "    tokens = [word for word in tokens if word not in stop_words]\n",
    "\n",
    "    lemmatized_tokens = [lzr.lemmatize(token) for token in tokens]\n",
    "\n",
    "    preprocessed_text = ' '.join(lemmatized_tokens)\n",
    "    \n",
    "    return preprocessed_text"
   ]
  },
  {
   "cell_type": "code",
   "execution_count": 2,
   "metadata": {},
   "outputs": [],
   "source": [
    "#2\n",
    "with open('LSTM_Model', 'rb') as model_file:\n",
    "    loaded_model = pickle.load(model_file)"
   ]
  },
  {
   "cell_type": "markdown",
   "metadata": {},
   "source": [
    "Testing the model:"
   ]
  },
  {
   "cell_type": "code",
   "execution_count": 3,
   "metadata": {},
   "outputs": [],
   "source": [
    "#3\n",
    "def get_sentiment(text_comment):\n",
    "    preprocessed_comment = preprocess_text(text_comment)  \n",
    "    numeric_comment = tokenizer.texts_to_sequences([preprocessed_comment])\n",
    "    numeric_comment = pad_sequences(numeric_comment, maxlen=max_sequence_length)\n",
    "\n",
    "    predictions = loaded_model.predict(numeric_comment)\n",
    "\n",
    "    sentiment_probabilities = predictions[1][0]\n",
    "\n",
    "    highest_probability_index = sentiment_probabilities.argmax()\n",
    "\n",
    "    compound_score = predictions[0][0]\n",
    "\n",
    "    return compound_score, highest_probability_index"
   ]
  },
  {
   "cell_type": "code",
   "execution_count": 10,
   "metadata": {},
   "outputs": [
    {
     "name": "stdout",
     "output_type": "stream",
     "text": [
      "1/1 [==============================] - 0s 41ms/step\n",
      "compound score =  0.63860697 \n",
      "Sentiment =  2\n"
     ]
    }
   ],
   "source": [
    "#4\n",
    "text_ = \"this is awesome\"\n",
    "comp_score, sentiment = get_sentiment(text_)\n",
    "print(\"compound score = \", comp_score[0], \"\\nSentiment = \",sentiment)"
   ]
  },
  {
   "cell_type": "code",
   "execution_count": null,
   "metadata": {},
   "outputs": [],
   "source": []
  }
 ],
 "metadata": {
  "kernelspec": {
   "display_name": "Python 3",
   "language": "python",
   "name": "python3"
  },
  "language_info": {
   "codemirror_mode": {
    "name": "ipython",
    "version": 3
   },
   "file_extension": ".py",
   "mimetype": "text/x-python",
   "name": "python",
   "nbconvert_exporter": "python",
   "pygments_lexer": "ipython3",
   "version": "3.11.2"
  },
  "orig_nbformat": 4
 },
 "nbformat": 4,
 "nbformat_minor": 2
}
